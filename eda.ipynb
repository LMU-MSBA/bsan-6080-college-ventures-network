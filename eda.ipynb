{
  "nbformat": 4,
  "nbformat_minor": 0,
  "metadata": {
    "colab": {
      "name": "eda.ipynb",
      "provenance": []
    },
    "kernelspec": {
      "name": "python3",
      "display_name": "Python 3"
    },
    "language_info": {
      "name": "python"
    }
  },
  "cells": [
    {
      "cell_type": "markdown",
      "source": [
        "#Group 3: Mfolozi Dlamini, Wally Dryden, Jonathan Ting, David Rider, Kyle Guillen"
      ],
      "metadata": {
        "id": "cKi9KusCjLK1"
      }
    },
    {
      "cell_type": "markdown",
      "source": [
        "###BSAN 6080: Sprint 2: Data Exploration\n",
        "###April 12, 2022"
      ],
      "metadata": {
        "id": "u_H5Aun4jXB7"
      }
    },
    {
      "cell_type": "markdown",
      "source": [
        "####1. Importing Packages"
      ],
      "metadata": {
        "id": "aOTfHMXLjhXJ"
      }
    },
    {
      "cell_type": "code",
      "source": [
        "import pandas as pd\n",
        "import numpy as np\n",
        "from sklearn import linear_model\n",
        "from sklearn.model_selection import train_test_split\n",
        "import matplotlib.pyplot as plt\n",
        "import seaborn as sns\n",
        "%matplotlib inline\n",
        "from sklearn import metrics\n",
        "from matplotlib.pyplot import figure\n",
        "from sklearn.model_selection import RandomizedSearchCV\n",
        "from scipy.stats import uniform"
      ],
      "metadata": {
        "id": "GYfD3Wn4jmFR"
      },
      "execution_count": 2,
      "outputs": []
    },
    {
      "cell_type": "markdown",
      "source": [
        "####2. Reading in the dataset"
      ],
      "metadata": {
        "id": "DPvPTqSkk5vv"
      }
    },
    {
      "cell_type": "code",
      "source": [
        "data = pd.read_excel('/content/group3_data.xlsx')"
      ],
      "metadata": {
        "id": "F382iI2Dk5O5"
      },
      "execution_count": 3,
      "outputs": []
    },
    {
      "cell_type": "markdown",
      "source": [
        "####3. General information and statistics of data\n"
      ],
      "metadata": {
        "id": "sEBV5_RhlQkj"
      }
    },
    {
      "cell_type": "code",
      "source": [
        "#Display the head of the data\n",
        "data"
      ],
      "metadata": {
        "colab": {
          "base_uri": "https://localhost:8080/",
          "height": 423
        },
        "id": "r1u1YA6FlXx1",
        "outputId": "f2c1662e-20a4-49f9-a3ef-e9e34f14a59d"
      },
      "execution_count": 4,
      "outputs": [
        {
          "output_type": "execute_result",
          "data": {
            "text/plain": [
              "        unix_time_start     event  browser_received_count  \\\n",
              "0   2022-03-31 17:00:00  PageView                      17   \n",
              "1   2022-03-31 18:00:00  PageView                      10   \n",
              "2   2022-03-31 19:00:00  PageView                       1   \n",
              "3   2022-03-31 20:00:00  PageView                       1   \n",
              "4   2022-03-31 21:00:00  PageView                       1   \n",
              "..                  ...       ...                     ...   \n",
              "144 2022-04-11 18:00:00  PageView                      14   \n",
              "145 2022-04-11 19:00:00  PageView                      23   \n",
              "146 2022-04-11 20:00:00  PageView                       3   \n",
              "147 2022-04-11 21:00:00  PageView                       3   \n",
              "148 2022-04-11 22:00:00  PageView                       4   \n",
              "\n",
              "     server_received_count  total_count  \n",
              "0                        0           17  \n",
              "1                        0           10  \n",
              "2                        0            1  \n",
              "3                        0            1  \n",
              "4                        0            1  \n",
              "..                     ...          ...  \n",
              "144                      0           14  \n",
              "145                      0           23  \n",
              "146                      0            3  \n",
              "147                      0            3  \n",
              "148                      0            4  \n",
              "\n",
              "[149 rows x 5 columns]"
            ],
            "text/html": [
              "\n",
              "  <div id=\"df-6d0b3dd6-9d19-47f9-9d4f-578d5ed53a0a\">\n",
              "    <div class=\"colab-df-container\">\n",
              "      <div>\n",
              "<style scoped>\n",
              "    .dataframe tbody tr th:only-of-type {\n",
              "        vertical-align: middle;\n",
              "    }\n",
              "\n",
              "    .dataframe tbody tr th {\n",
              "        vertical-align: top;\n",
              "    }\n",
              "\n",
              "    .dataframe thead th {\n",
              "        text-align: right;\n",
              "    }\n",
              "</style>\n",
              "<table border=\"1\" class=\"dataframe\">\n",
              "  <thead>\n",
              "    <tr style=\"text-align: right;\">\n",
              "      <th></th>\n",
              "      <th>unix_time_start</th>\n",
              "      <th>event</th>\n",
              "      <th>browser_received_count</th>\n",
              "      <th>server_received_count</th>\n",
              "      <th>total_count</th>\n",
              "    </tr>\n",
              "  </thead>\n",
              "  <tbody>\n",
              "    <tr>\n",
              "      <th>0</th>\n",
              "      <td>2022-03-31 17:00:00</td>\n",
              "      <td>PageView</td>\n",
              "      <td>17</td>\n",
              "      <td>0</td>\n",
              "      <td>17</td>\n",
              "    </tr>\n",
              "    <tr>\n",
              "      <th>1</th>\n",
              "      <td>2022-03-31 18:00:00</td>\n",
              "      <td>PageView</td>\n",
              "      <td>10</td>\n",
              "      <td>0</td>\n",
              "      <td>10</td>\n",
              "    </tr>\n",
              "    <tr>\n",
              "      <th>2</th>\n",
              "      <td>2022-03-31 19:00:00</td>\n",
              "      <td>PageView</td>\n",
              "      <td>1</td>\n",
              "      <td>0</td>\n",
              "      <td>1</td>\n",
              "    </tr>\n",
              "    <tr>\n",
              "      <th>3</th>\n",
              "      <td>2022-03-31 20:00:00</td>\n",
              "      <td>PageView</td>\n",
              "      <td>1</td>\n",
              "      <td>0</td>\n",
              "      <td>1</td>\n",
              "    </tr>\n",
              "    <tr>\n",
              "      <th>4</th>\n",
              "      <td>2022-03-31 21:00:00</td>\n",
              "      <td>PageView</td>\n",
              "      <td>1</td>\n",
              "      <td>0</td>\n",
              "      <td>1</td>\n",
              "    </tr>\n",
              "    <tr>\n",
              "      <th>...</th>\n",
              "      <td>...</td>\n",
              "      <td>...</td>\n",
              "      <td>...</td>\n",
              "      <td>...</td>\n",
              "      <td>...</td>\n",
              "    </tr>\n",
              "    <tr>\n",
              "      <th>144</th>\n",
              "      <td>2022-04-11 18:00:00</td>\n",
              "      <td>PageView</td>\n",
              "      <td>14</td>\n",
              "      <td>0</td>\n",
              "      <td>14</td>\n",
              "    </tr>\n",
              "    <tr>\n",
              "      <th>145</th>\n",
              "      <td>2022-04-11 19:00:00</td>\n",
              "      <td>PageView</td>\n",
              "      <td>23</td>\n",
              "      <td>0</td>\n",
              "      <td>23</td>\n",
              "    </tr>\n",
              "    <tr>\n",
              "      <th>146</th>\n",
              "      <td>2022-04-11 20:00:00</td>\n",
              "      <td>PageView</td>\n",
              "      <td>3</td>\n",
              "      <td>0</td>\n",
              "      <td>3</td>\n",
              "    </tr>\n",
              "    <tr>\n",
              "      <th>147</th>\n",
              "      <td>2022-04-11 21:00:00</td>\n",
              "      <td>PageView</td>\n",
              "      <td>3</td>\n",
              "      <td>0</td>\n",
              "      <td>3</td>\n",
              "    </tr>\n",
              "    <tr>\n",
              "      <th>148</th>\n",
              "      <td>2022-04-11 22:00:00</td>\n",
              "      <td>PageView</td>\n",
              "      <td>4</td>\n",
              "      <td>0</td>\n",
              "      <td>4</td>\n",
              "    </tr>\n",
              "  </tbody>\n",
              "</table>\n",
              "<p>149 rows × 5 columns</p>\n",
              "</div>\n",
              "      <button class=\"colab-df-convert\" onclick=\"convertToInteractive('df-6d0b3dd6-9d19-47f9-9d4f-578d5ed53a0a')\"\n",
              "              title=\"Convert this dataframe to an interactive table.\"\n",
              "              style=\"display:none;\">\n",
              "        \n",
              "  <svg xmlns=\"http://www.w3.org/2000/svg\" height=\"24px\"viewBox=\"0 0 24 24\"\n",
              "       width=\"24px\">\n",
              "    <path d=\"M0 0h24v24H0V0z\" fill=\"none\"/>\n",
              "    <path d=\"M18.56 5.44l.94 2.06.94-2.06 2.06-.94-2.06-.94-.94-2.06-.94 2.06-2.06.94zm-11 1L8.5 8.5l.94-2.06 2.06-.94-2.06-.94L8.5 2.5l-.94 2.06-2.06.94zm10 10l.94 2.06.94-2.06 2.06-.94-2.06-.94-.94-2.06-.94 2.06-2.06.94z\"/><path d=\"M17.41 7.96l-1.37-1.37c-.4-.4-.92-.59-1.43-.59-.52 0-1.04.2-1.43.59L10.3 9.45l-7.72 7.72c-.78.78-.78 2.05 0 2.83L4 21.41c.39.39.9.59 1.41.59.51 0 1.02-.2 1.41-.59l7.78-7.78 2.81-2.81c.8-.78.8-2.07 0-2.86zM5.41 20L4 18.59l7.72-7.72 1.47 1.35L5.41 20z\"/>\n",
              "  </svg>\n",
              "      </button>\n",
              "      \n",
              "  <style>\n",
              "    .colab-df-container {\n",
              "      display:flex;\n",
              "      flex-wrap:wrap;\n",
              "      gap: 12px;\n",
              "    }\n",
              "\n",
              "    .colab-df-convert {\n",
              "      background-color: #E8F0FE;\n",
              "      border: none;\n",
              "      border-radius: 50%;\n",
              "      cursor: pointer;\n",
              "      display: none;\n",
              "      fill: #1967D2;\n",
              "      height: 32px;\n",
              "      padding: 0 0 0 0;\n",
              "      width: 32px;\n",
              "    }\n",
              "\n",
              "    .colab-df-convert:hover {\n",
              "      background-color: #E2EBFA;\n",
              "      box-shadow: 0px 1px 2px rgba(60, 64, 67, 0.3), 0px 1px 3px 1px rgba(60, 64, 67, 0.15);\n",
              "      fill: #174EA6;\n",
              "    }\n",
              "\n",
              "    [theme=dark] .colab-df-convert {\n",
              "      background-color: #3B4455;\n",
              "      fill: #D2E3FC;\n",
              "    }\n",
              "\n",
              "    [theme=dark] .colab-df-convert:hover {\n",
              "      background-color: #434B5C;\n",
              "      box-shadow: 0px 1px 3px 1px rgba(0, 0, 0, 0.15);\n",
              "      filter: drop-shadow(0px 1px 2px rgba(0, 0, 0, 0.3));\n",
              "      fill: #FFFFFF;\n",
              "    }\n",
              "  </style>\n",
              "\n",
              "      <script>\n",
              "        const buttonEl =\n",
              "          document.querySelector('#df-6d0b3dd6-9d19-47f9-9d4f-578d5ed53a0a button.colab-df-convert');\n",
              "        buttonEl.style.display =\n",
              "          google.colab.kernel.accessAllowed ? 'block' : 'none';\n",
              "\n",
              "        async function convertToInteractive(key) {\n",
              "          const element = document.querySelector('#df-6d0b3dd6-9d19-47f9-9d4f-578d5ed53a0a');\n",
              "          const dataTable =\n",
              "            await google.colab.kernel.invokeFunction('convertToInteractive',\n",
              "                                                     [key], {});\n",
              "          if (!dataTable) return;\n",
              "\n",
              "          const docLinkHtml = 'Like what you see? Visit the ' +\n",
              "            '<a target=\"_blank\" href=https://colab.research.google.com/notebooks/data_table.ipynb>data table notebook</a>'\n",
              "            + ' to learn more about interactive tables.';\n",
              "          element.innerHTML = '';\n",
              "          dataTable['output_type'] = 'display_data';\n",
              "          await google.colab.output.renderOutput(dataTable, element);\n",
              "          const docLink = document.createElement('div');\n",
              "          docLink.innerHTML = docLinkHtml;\n",
              "          element.appendChild(docLink);\n",
              "        }\n",
              "      </script>\n",
              "    </div>\n",
              "  </div>\n",
              "  "
            ]
          },
          "metadata": {},
          "execution_count": 4
        }
      ]
    },
    {
      "cell_type": "code",
      "source": [
        "#Showing the shape of our data (rows x columns)\n",
        "data.shape"
      ],
      "metadata": {
        "colab": {
          "base_uri": "https://localhost:8080/"
        },
        "id": "PdfphEoVleRh",
        "outputId": "e5736b2c-1166-4bd8-9583-f6556c61a344"
      },
      "execution_count": 5,
      "outputs": [
        {
          "output_type": "execute_result",
          "data": {
            "text/plain": [
              "(149, 5)"
            ]
          },
          "metadata": {},
          "execution_count": 5
        }
      ]
    },
    {
      "cell_type": "code",
      "source": [
        "#Check to see if our data has any null values\n",
        "data.isnull().sum()"
      ],
      "metadata": {
        "colab": {
          "base_uri": "https://localhost:8080/"
        },
        "id": "24hQonY4lkOE",
        "outputId": "6dfc4264-3089-4549-825b-25f26c18e33d"
      },
      "execution_count": 6,
      "outputs": [
        {
          "output_type": "execute_result",
          "data": {
            "text/plain": [
              "unix_time_start           0\n",
              "event                     0\n",
              "browser_received_count    0\n",
              "server_received_count     0\n",
              "total_count               0\n",
              "dtype: int64"
            ]
          },
          "metadata": {},
          "execution_count": 6
        }
      ]
    },
    {
      "cell_type": "code",
      "source": [
        "#Since there are no null values we can move ahead with our EDA\n",
        "x = data['unix_time_start']\n",
        "y = data['browser_received_count']\n",
        "plt.plot(x,y)\n",
        "plt.xticks(rotation = 45) # Rotates X-Axis Ticks by 45-degrees\n",
        "plt.show()"
      ],
      "metadata": {
        "colab": {
          "base_uri": "https://localhost:8080/",
          "height": 303
        },
        "id": "FkCC1gahmTan",
        "outputId": "c1a7ec11-2787-4246-94df-8f51b60dcc1e"
      },
      "execution_count": 7,
      "outputs": [
        {
          "output_type": "display_data",
          "data": {
            "text/plain": [
              "<Figure size 432x288 with 1 Axes>"
            ],
            "image/png": "[encoded data removed]"
          },
          "metadata": {
            "needs_background": "light"
          }
        }
      ]
    },
    {
      "cell_type": "markdown",
      "source": [
        "**We see that theres a lot of random variation with our website traffic from the above plot (random oscillation up and down)**"
      ],
      "metadata": {
        "id": "gh8SJA_NnXF4"
      }
    },
    {
      "cell_type": "code",
      "source": [
        "#we see that theres a lot of random variation with our website traffic from the above plot(random oscillation \n",
        "#up and down)\n",
        "\n",
        "#now we want to see our top 3 days\n",
        "data.nlargest(3,'total_count')\n"
      ],
      "metadata": {
        "colab": {
          "base_uri": "https://localhost:8080/",
          "height": 143
        },
        "id": "2hJIEYSGoFIM",
        "outputId": "69d26627-bbce-4bb8-a9e2-512745970976"
      },
      "execution_count": 8,
      "outputs": [
        {
          "output_type": "execute_result",
          "data": {
            "text/plain": [
              "        unix_time_start     event  browser_received_count  \\\n",
              "145 2022-04-11 19:00:00  PageView                      23   \n",
              "142 2022-04-11 16:00:00  PageView                      19   \n",
              "0   2022-03-31 17:00:00  PageView                      17   \n",
              "\n",
              "     server_received_count  total_count  \n",
              "145                      0           23  \n",
              "142                      0           19  \n",
              "0                        0           17  "
            ],
            "text/html": [
              "\n",
              "  <div id=\"df-88d1cf8a-c1ed-42e7-a22a-be3055c1b5fe\">\n",
              "    <div class=\"colab-df-container\">\n",
              "      <div>\n",
              "<style scoped>\n",
              "    .dataframe tbody tr th:only-of-type {\n",
              "        vertical-align: middle;\n",
              "    }\n",
              "\n",
              "    .dataframe tbody tr th {\n",
              "        vertical-align: top;\n",
              "    }\n",
              "\n",
              "    .dataframe thead th {\n",
              "        text-align: right;\n",
              "    }\n",
              "</style>\n",
              "<table border=\"1\" class=\"dataframe\">\n",
              "  <thead>\n",
              "    <tr style=\"text-align: right;\">\n",
              "      <th></th>\n",
              "      <th>unix_time_start</th>\n",
              "      <th>event</th>\n",
              "      <th>browser_received_count</th>\n",
              "      <th>server_received_count</th>\n",
              "      <th>total_count</th>\n",
              "    </tr>\n",
              "  </thead>\n",
              "  <tbody>\n",
              "    <tr>\n",
              "      <th>145</th>\n",
              "      <td>2022-04-11 19:00:00</td>\n",
              "      <td>PageView</td>\n",
              "      <td>23</td>\n",
              "      <td>0</td>\n",
              "      <td>23</td>\n",
              "    </tr>\n",
              "    <tr>\n",
              "      <th>142</th>\n",
              "      <td>2022-04-11 16:00:00</td>\n",
              "      <td>PageView</td>\n",
              "      <td>19</td>\n",
              "      <td>0</td>\n",
              "      <td>19</td>\n",
              "    </tr>\n",
              "    <tr>\n",
              "      <th>0</th>\n",
              "      <td>2022-03-31 17:00:00</td>\n",
              "      <td>PageView</td>\n",
              "      <td>17</td>\n",
              "      <td>0</td>\n",
              "      <td>17</td>\n",
              "    </tr>\n",
              "  </tbody>\n",
              "</table>\n",
              "</div>\n",
              "      <button class=\"colab-df-convert\" onclick=\"convertToInteractive('df-88d1cf8a-c1ed-42e7-a22a-be3055c1b5fe')\"\n",
              "              title=\"Convert this dataframe to an interactive table.\"\n",
              "              style=\"display:none;\">\n",
              "        \n",
              "  <svg xmlns=\"http://www.w3.org/2000/svg\" height=\"24px\"viewBox=\"0 0 24 24\"\n",
              "       width=\"24px\">\n",
              "    <path d=\"M0 0h24v24H0V0z\" fill=\"none\"/>\n",
              "    <path d=\"M18.56 5.44l.94 2.06.94-2.06 2.06-.94-2.06-.94-.94-2.06-.94 2.06-2.06.94zm-11 1L8.5 8.5l.94-2.06 2.06-.94-2.06-.94L8.5 2.5l-.94 2.06-2.06.94zm10 10l.94 2.06.94-2.06 2.06-.94-2.06-.94-.94-2.06-.94 2.06-2.06.94z\"/><path d=\"M17.41 7.96l-1.37-1.37c-.4-.4-.92-.59-1.43-.59-.52 0-1.04.2-1.43.59L10.3 9.45l-7.72 7.72c-.78.78-.78 2.05 0 2.83L4 21.41c.39.39.9.59 1.41.59.51 0 1.02-.2 1.41-.59l7.78-7.78 2.81-2.81c.8-.78.8-2.07 0-2.86zM5.41 20L4 18.59l7.72-7.72 1.47 1.35L5.41 20z\"/>\n",
              "  </svg>\n",
              "      </button>\n",
              "      \n",
              "  <style>\n",
              "    .colab-df-container {\n",
              "      display:flex;\n",
              "      flex-wrap:wrap;\n",
              "      gap: 12px;\n",
              "    }\n",
              "\n",
              "    .colab-df-convert {\n",
              "      background-color: #E8F0FE;\n",
              "      border: none;\n",
              "      border-radius: 50%;\n",
              "      cursor: pointer;\n",
              "      display: none;\n",
              "      fill: #1967D2;\n",
              "      height: 32px;\n",
              "      padding: 0 0 0 0;\n",
              "      width: 32px;\n",
              "    }\n",
              "\n",
              "    .colab-df-convert:hover {\n",
              "      background-color: #E2EBFA;\n",
              "      box-shadow: 0px 1px 2px rgba(60, 64, 67, 0.3), 0px 1px 3px 1px rgba(60, 64, 67, 0.15);\n",
              "      fill: #174EA6;\n",
              "    }\n",
              "\n",
              "    [theme=dark] .colab-df-convert {\n",
              "      background-color: #3B4455;\n",
              "      fill: #D2E3FC;\n",
              "    }\n",
              "\n",
              "    [theme=dark] .colab-df-convert:hover {\n",
              "      background-color: #434B5C;\n",
              "      box-shadow: 0px 1px 3px 1px rgba(0, 0, 0, 0.15);\n",
              "      filter: drop-shadow(0px 1px 2px rgba(0, 0, 0, 0.3));\n",
              "      fill: #FFFFFF;\n",
              "    }\n",
              "  </style>\n",
              "\n",
              "      <script>\n",
              "        const buttonEl =\n",
              "          document.querySelector('#df-88d1cf8a-c1ed-42e7-a22a-be3055c1b5fe button.colab-df-convert');\n",
              "        buttonEl.style.display =\n",
              "          google.colab.kernel.accessAllowed ? 'block' : 'none';\n",
              "\n",
              "        async function convertToInteractive(key) {\n",
              "          const element = document.querySelector('#df-88d1cf8a-c1ed-42e7-a22a-be3055c1b5fe');\n",
              "          const dataTable =\n",
              "            await google.colab.kernel.invokeFunction('convertToInteractive',\n",
              "                                                     [key], {});\n",
              "          if (!dataTable) return;\n",
              "\n",
              "          const docLinkHtml = 'Like what you see? Visit the ' +\n",
              "            '<a target=\"_blank\" href=https://colab.research.google.com/notebooks/data_table.ipynb>data table notebook</a>'\n",
              "            + ' to learn more about interactive tables.';\n",
              "          element.innerHTML = '';\n",
              "          dataTable['output_type'] = 'display_data';\n",
              "          await google.colab.output.renderOutput(dataTable, element);\n",
              "          const docLink = document.createElement('div');\n",
              "          docLink.innerHTML = docLinkHtml;\n",
              "          element.appendChild(docLink);\n",
              "        }\n",
              "      </script>\n",
              "    </div>\n",
              "  </div>\n",
              "  "
            ]
          },
          "metadata": {},
          "execution_count": 8
        }
      ]
    },
    {
      "cell_type": "markdown",
      "source": [
        "**Further insight shows that our top 3 days for user traffic were** \n",
        "- 2022/04/11 at 19:00:00\n",
        "- 2022/04/11 at 16:00:00\n",
        "- 2022/03/31 at 17:00:00**"
      ],
      "metadata": {
        "id": "fJu0vUzDnm3L"
      }
    },
    {
      "cell_type": "markdown",
      "source": [
        "####Now we look deeper at the data from our Google Analytics"
      ],
      "metadata": {
        "id": "Z9DzXJNEtC5b"
      }
    },
    {
      "cell_type": "code",
      "source": [
        "df_users_per_day = pd.read_excel('/content/group3_analytics.xlsx',sheet_name='visits')\n",
        "df_users_per_day.head()\n",
        "x = df_users_per_day['Day']\n",
        "y = df_users_per_day['Users']\n",
        "plt.plot(x,y)\n",
        "plt.title('Chart showing number of users over 2022/04/03 - 2022/04/11 ')\n",
        "plt.xlabel('Day')\n",
        "plt.ylabel('Users')"
      ],
      "metadata": {
        "colab": {
          "base_uri": "https://localhost:8080/",
          "height": 313
        },
        "id": "aFPZehzxrVSl",
        "outputId": "ff869d23-cac5-4f0e-efae-3a5b371624db"
      },
      "execution_count": 14,
      "outputs": [
        {
          "output_type": "execute_result",
          "data": {
            "text/plain": [
              "Text(0, 0.5, 'Users')"
            ]
          },
          "metadata": {},
          "execution_count": 14
        },
        {
          "output_type": "display_data",
          "data": {
            "text/plain": [
              "<Figure size 432x288 with 1 Axes>"
            ],
            "image/png": "[encoded data removed]"
          },
          "metadata": {
            "needs_background": "light"
          }
        }
      ]
    },
    {
      "cell_type": "markdown",
      "source": [
        "**For the week beginning 2022/04/03 to 2022/04/11 we can see that our website traffic peaked on Day 3. It is important to note that there is still a lot of random variation and our data is not sufficient enough at this stage to have a full picture.**"
      ],
      "metadata": {
        "id": "a4EvDi4noJVE"
      }
    },
    {
      "cell_type": "code",
      "source": [
        "df_new_users = pd.read_excel('/content/group3_analytics.xlsx',sheet_name='new_users')\n",
        "df_new_users.head()\n",
        "x= df_new_users['Day']\n",
        "y=df_new_users['New users']\n",
        "plt.plot(x,y)\n",
        "plt.title('Chart showing number of new users over 2022/04/03 - 2022/04/11 ')\n",
        "plt.xlabel('Day')\n",
        "plt.ylabel('New Users')"
      ],
      "metadata": {
        "colab": {
          "base_uri": "https://localhost:8080/",
          "height": 313
        },
        "id": "puWZWuAHviP2",
        "outputId": "8e3b83f1-3bc4-4376-ec2a-c2267550878c"
      },
      "execution_count": 16,
      "outputs": [
        {
          "output_type": "execute_result",
          "data": {
            "text/plain": [
              "Text(0, 0.5, 'New Users')"
            ]
          },
          "metadata": {},
          "execution_count": 16
        },
        {
          "output_type": "display_data",
          "data": {
            "text/plain": [
              "<Figure size 432x288 with 1 Axes>"
            ],
            "image/png": "[encoded data removed]"
          },
          "metadata": {
            "needs_background": "light"
          }
        }
      ]
    },
    {
      "cell_type": "markdown",
      "source": [
        "**Similarly with new user traffic we can see that the peak occured on day 3 within the specified time period.**"
      ],
      "metadata": {
        "id": "7aFiOOgDogV_"
      }
    },
    {
      "cell_type": "code",
      "source": [
        "df_avg_engagement_time = pd.read_excel('/content/group3_analytics.xlsx',sheet_name='average_engagement_time')\n",
        "df_avg_engagement_time.head()\n",
        "x=df_avg_engagement_time['Day']\n",
        "y=df_avg_engagement_time['Average engagement time']\n",
        "plt.plot(x,y)\n",
        "plt.title('Chart showing avg engagement time over 2022/04/03 - 2022/04/11 ')\n",
        "plt.xlabel('Day')\n",
        "plt.ylabel('Average engagement time')"
      ],
      "metadata": {
        "colab": {
          "base_uri": "https://localhost:8080/",
          "height": 313
        },
        "id": "ce80IAoTwOnD",
        "outputId": "d92d35ab-7abb-49af-e4a3-a376fdde6681"
      },
      "execution_count": 17,
      "outputs": [
        {
          "output_type": "execute_result",
          "data": {
            "text/plain": [
              "Text(0, 0.5, 'Average engagement time')"
            ]
          },
          "metadata": {},
          "execution_count": 17
        },
        {
          "output_type": "display_data",
          "data": {
            "text/plain": [
              "<Figure size 432x288 with 1 Axes>"
            ],
            "image/png": "[encoded data removed]"
          },
          "metadata": {
            "needs_background": "light"
          }
        }
      ]
    },
    {
      "cell_type": "markdown",
      "source": [
        "**Our average engagement chart is quite interesting. We can make an inference that on the Days where our engagement time is highest is consequently the day where we have more user traffic to our ad. More importantly the more data we obtain over a longer period the more we can accurately predict longer engagement time for the users and make inferences based on those.**"
      ],
      "metadata": {
        "id": "7VjBjxJBorqR"
      }
    },
    {
      "cell_type": "code",
      "source": [
        "df_first_users_source = pd.read_excel('/content/group3_analytics.xlsx',sheet_name='first_users_source')\n",
        "df_first_users_source.head()\n",
        "\n",
        "fig = plt.figure()\n",
        "ax = fig.add_axes([0,0,1,1])\n",
        "x = df_first_users_source['First user default channel grouping']\n",
        "y = df_first_users_source['New users']\n",
        "graph =ax.bar(x,y)\n",
        "graph[0].set_color('g')\n",
        "graph[4].set_color('r')\n",
        "plt.title('Chart showing first-time user source')\n",
        "plt.xlabel('Source')\n",
        "plt.ylabel('Users')\n",
        "plt.show()"
      ],
      "metadata": {
        "colab": {
          "base_uri": "https://localhost:8080/",
          "height": 365
        },
        "id": "z-iavNLDwcCc",
        "outputId": "55e08c28-1a58-48fe-d63c-eec36eed00c8"
      },
      "execution_count": 32,
      "outputs": [
        {
          "output_type": "display_data",
          "data": {
            "text/plain": [
              "<Figure size 432x288 with 1 Axes>"
            ],
            "image/png": "[encoded data removed]"
          },
          "metadata": {
            "needs_background": "light"
          }
        }
      ]
    },
    {
      "cell_type": "markdown",
      "source": [
        "**The graph above shows the numbers of user traffic to our ad via source. We have 5 sources Direct, Refferal, Organic Social, Organic Search as well as Email. We observed that over the specified time period a huge proportion of our user traffic came from the Direct Channel and the least came from the Email channel**"
      ],
      "metadata": {
        "id": "qs62PmZep5q_"
      }
    },
    {
      "cell_type": "code",
      "source": [
        "df_reg_users_source = pd.read_excel('/content/group3_analytics.xlsx',sheet_name='reg_users_source')\n",
        "df_reg_users_source.head()\n",
        "\n",
        "fig = plt.figure()\n",
        "ax = fig.add_axes([0,0,1,1])\n",
        "x = df_reg_users_source['Session default channel grouping']\n",
        "y = df_reg_users_source['Sessions']\n",
        "graph=ax.bar(x,y)\n",
        "graph[0].set_color('g')\n",
        "graph[4].set_color('r')\n",
        "plt.title('Chart showing session default source')\n",
        "plt.xlabel('Source')\n",
        "plt.ylabel('Sessions')\n",
        "plt.show()"
      ],
      "metadata": {
        "colab": {
          "base_uri": "https://localhost:8080/",
          "height": 365
        },
        "id": "n0rXfvnywy1X",
        "outputId": "f2a90b5c-bcf4-4388-ca5f-08e3f8354ea3"
      },
      "execution_count": 31,
      "outputs": [
        {
          "output_type": "display_data",
          "data": {
            "text/plain": [
              "<Figure size 432x288 with 1 Axes>"
            ],
            "image/png": "[encoded data removed]"
          },
          "metadata": {
            "needs_background": "light"
          }
        }
      ]
    },
    {
      "cell_type": "markdown",
      "source": [
        "**Similar results are shown below for the sessions information for users interacting with our ad.**"
      ],
      "metadata": {
        "id": "CQeWBG_DqSX-"
      }
    },
    {
      "cell_type": "code",
      "source": [
        "df_country = pd.read_excel('/content/group3_analytics.xlsx',sheet_name='country')\n",
        "df_country.head()\n",
        "\n",
        "fig = plt.figure()\n",
        "ax = fig.add_axes([0,0,1,1])\n",
        "x = df_country['Country']\n",
        "y = df_country['Users']\n",
        "graph =ax.bar(x,y)\n",
        "plt.xticks(rotation = 45)\n",
        "graph[0].set_color('g')\n",
        "graph[8].set_color('r')\n",
        "plt.title('Chart showing users by country')\n",
        "plt.xlabel('Country')\n",
        "plt.ylabel('Users')\n",
        "plt.show()"
      ],
      "metadata": {
        "colab": {
          "base_uri": "https://localhost:8080/",
          "height": 420
        },
        "id": "tLx2wZm0w_Y4",
        "outputId": "870bb3e6-2b3f-43b2-f0b7-cb4bf47f988e"
      },
      "execution_count": 24,
      "outputs": [
        {
          "output_type": "display_data",
          "data": {
            "text/plain": [
              "<Figure size 432x288 with 1 Axes>"
            ],
            "image/png": "[encoded data removed]"
          },
          "metadata": {
            "needs_background": "light"
          }
        }
      ]
    },
    {
      "cell_type": "markdown",
      "source": [
        "**As expected a majority of our user traffic comes from the United States. This makes sense in light of our main target market with the ad for the College Ventures Network conference being hosted in the United States. It is important to note other global reach from essentially every continent on the globe except South America.**"
      ],
      "metadata": {
        "id": "czcTbO2FqcbO"
      }
    },
    {
      "cell_type": "code",
      "source": [
        "df_trending_users = pd.read_excel('/content/group3_analytics.xlsx',sheet_name='trending_users')\n",
        "display(df_trending_users.head())\n",
        "\n",
        "fig = plt.figure()\n",
        "ax = fig.add_axes([0,0,1,1])\n",
        "x = df_trending_users['Day']\n",
        "y1 = df_trending_users['30 days']\n",
        "y2 = df_trending_users['7 days']\n",
        "y3 = df_trending_users['1 day']\n",
        "\n",
        "plt.plot(x,y1, label = \"30 days\", linestyle=\"-\")\n",
        "plt.plot(x,y2,label = \"7 days\", linestyle=\"-.\")\n",
        "plt.plot(x,y3,label = \"1 day\", linestyle=\":\")\n",
        "plt.legend(loc=\"upper left\")\n",
        "plt.title('Chart showing trending users over different intervals')\n",
        "plt.xlabel('Day')\n",
        "plt.ylabel('Users')\n",
        "plt.show()"
      ],
      "metadata": {
        "colab": {
          "base_uri": "https://localhost:8080/",
          "height": 555
        },
        "id": "n27iQKDkytlm",
        "outputId": "b1285e4e-5139-4702-eda2-bcffd8751ae0"
      },
      "execution_count": 28,
      "outputs": [
        {
          "output_type": "display_data",
          "data": {
            "text/plain": [
              "   Day  30 days  7 days  1 day\n",
              "0    0        0       0      0\n",
              "1    1        0       0      0\n",
              "2    2        2       2      2\n",
              "3    3       56      56     54\n",
              "4    4      100     100     46"
            ],
            "text/html": [
              "\n",
              "  <div id=\"df-acf43f6b-bcca-454f-8062-2796706006ea\">\n",
              "    <div class=\"colab-df-container\">\n",
              "      <div>\n",
              "<style scoped>\n",
              "    .dataframe tbody tr th:only-of-type {\n",
              "        vertical-align: middle;\n",
              "    }\n",
              "\n",
              "    .dataframe tbody tr th {\n",
              "        vertical-align: top;\n",
              "    }\n",
              "\n",
              "    .dataframe thead th {\n",
              "        text-align: right;\n",
              "    }\n",
              "</style>\n",
              "<table border=\"1\" class=\"dataframe\">\n",
              "  <thead>\n",
              "    <tr style=\"text-align: right;\">\n",
              "      <th></th>\n",
              "      <th>Day</th>\n",
              "      <th>30 days</th>\n",
              "      <th>7 days</th>\n",
              "      <th>1 day</th>\n",
              "    </tr>\n",
              "  </thead>\n",
              "  <tbody>\n",
              "    <tr>\n",
              "      <th>0</th>\n",
              "      <td>0</td>\n",
              "      <td>0</td>\n",
              "      <td>0</td>\n",
              "      <td>0</td>\n",
              "    </tr>\n",
              "    <tr>\n",
              "      <th>1</th>\n",
              "      <td>1</td>\n",
              "      <td>0</td>\n",
              "      <td>0</td>\n",
              "      <td>0</td>\n",
              "    </tr>\n",
              "    <tr>\n",
              "      <th>2</th>\n",
              "      <td>2</td>\n",
              "      <td>2</td>\n",
              "      <td>2</td>\n",
              "      <td>2</td>\n",
              "    </tr>\n",
              "    <tr>\n",
              "      <th>3</th>\n",
              "      <td>3</td>\n",
              "      <td>56</td>\n",
              "      <td>56</td>\n",
              "      <td>54</td>\n",
              "    </tr>\n",
              "    <tr>\n",
              "      <th>4</th>\n",
              "      <td>4</td>\n",
              "      <td>100</td>\n",
              "      <td>100</td>\n",
              "      <td>46</td>\n",
              "    </tr>\n",
              "  </tbody>\n",
              "</table>\n",
              "</div>\n",
              "      <button class=\"colab-df-convert\" onclick=\"convertToInteractive('df-acf43f6b-bcca-454f-8062-2796706006ea')\"\n",
              "              title=\"Convert this dataframe to an interactive table.\"\n",
              "              style=\"display:none;\">\n",
              "        \n",
              "  <svg xmlns=\"http://www.w3.org/2000/svg\" height=\"24px\"viewBox=\"0 0 24 24\"\n",
              "       width=\"24px\">\n",
              "    <path d=\"M0 0h24v24H0V0z\" fill=\"none\"/>\n",
              "    <path d=\"M18.56 5.44l.94 2.06.94-2.06 2.06-.94-2.06-.94-.94-2.06-.94 2.06-2.06.94zm-11 1L8.5 8.5l.94-2.06 2.06-.94-2.06-.94L8.5 2.5l-.94 2.06-2.06.94zm10 10l.94 2.06.94-2.06 2.06-.94-2.06-.94-.94-2.06-.94 2.06-2.06.94z\"/><path d=\"M17.41 7.96l-1.37-1.37c-.4-.4-.92-.59-1.43-.59-.52 0-1.04.2-1.43.59L10.3 9.45l-7.72 7.72c-.78.78-.78 2.05 0 2.83L4 21.41c.39.39.9.59 1.41.59.51 0 1.02-.2 1.41-.59l7.78-7.78 2.81-2.81c.8-.78.8-2.07 0-2.86zM5.41 20L4 18.59l7.72-7.72 1.47 1.35L5.41 20z\"/>\n",
              "  </svg>\n",
              "      </button>\n",
              "      \n",
              "  <style>\n",
              "    .colab-df-container {\n",
              "      display:flex;\n",
              "      flex-wrap:wrap;\n",
              "      gap: 12px;\n",
              "    }\n",
              "\n",
              "    .colab-df-convert {\n",
              "      background-color: #E8F0FE;\n",
              "      border: none;\n",
              "      border-radius: 50%;\n",
              "      cursor: pointer;\n",
              "      display: none;\n",
              "      fill: #1967D2;\n",
              "      height: 32px;\n",
              "      padding: 0 0 0 0;\n",
              "      width: 32px;\n",
              "    }\n",
              "\n",
              "    .colab-df-convert:hover {\n",
              "      background-color: #E2EBFA;\n",
              "      box-shadow: 0px 1px 2px rgba(60, 64, 67, 0.3), 0px 1px 3px 1px rgba(60, 64, 67, 0.15);\n",
              "      fill: #174EA6;\n",
              "    }\n",
              "\n",
              "    [theme=dark] .colab-df-convert {\n",
              "      background-color: #3B4455;\n",
              "      fill: #D2E3FC;\n",
              "    }\n",
              "\n",
              "    [theme=dark] .colab-df-convert:hover {\n",
              "      background-color: #434B5C;\n",
              "      box-shadow: 0px 1px 3px 1px rgba(0, 0, 0, 0.15);\n",
              "      filter: drop-shadow(0px 1px 2px rgba(0, 0, 0, 0.3));\n",
              "      fill: #FFFFFF;\n",
              "    }\n",
              "  </style>\n",
              "\n",
              "      <script>\n",
              "        const buttonEl =\n",
              "          document.querySelector('#df-acf43f6b-bcca-454f-8062-2796706006ea button.colab-df-convert');\n",
              "        buttonEl.style.display =\n",
              "          google.colab.kernel.accessAllowed ? 'block' : 'none';\n",
              "\n",
              "        async function convertToInteractive(key) {\n",
              "          const element = document.querySelector('#df-acf43f6b-bcca-454f-8062-2796706006ea');\n",
              "          const dataTable =\n",
              "            await google.colab.kernel.invokeFunction('convertToInteractive',\n",
              "                                                     [key], {});\n",
              "          if (!dataTable) return;\n",
              "\n",
              "          const docLinkHtml = 'Like what you see? Visit the ' +\n",
              "            '<a target=\"_blank\" href=https://colab.research.google.com/notebooks/data_table.ipynb>data table notebook</a>'\n",
              "            + ' to learn more about interactive tables.';\n",
              "          element.innerHTML = '';\n",
              "          dataTable['output_type'] = 'display_data';\n",
              "          await google.colab.output.renderOutput(dataTable, element);\n",
              "          const docLink = document.createElement('div');\n",
              "          docLink.innerHTML = docLinkHtml;\n",
              "          element.appendChild(docLink);\n",
              "        }\n",
              "      </script>\n",
              "    </div>\n",
              "  </div>\n",
              "  "
            ]
          },
          "metadata": {}
        },
        {
          "output_type": "display_data",
          "data": {
            "text/plain": [
              "<Figure size 432x288 with 1 Axes>"
            ],
            "image/png": "[encoded data removed]"
          },
          "metadata": {
            "needs_background": "light"
          }
        }
      ]
    },
    {
      "cell_type": "markdown",
      "source": [
        "**This chart is not that intuitive as is. The idea is to show case the number of users who remain active over a trailing period. The plan is to measure the the trailing periods in 30/7/1 day intervals.**"
      ],
      "metadata": {
        "id": "p02zUTQiq1kk"
      }
    },
    {
      "cell_type": "code",
      "source": [
        "df_session_activity = pd.read_excel('/content/group3_analytics.xlsx',sheet_name='session_activity')\n",
        "df_session_activity.head()\n",
        "\n",
        "fig = plt.figure()\n",
        "ax = fig.add_axes([0,0,1,1])\n",
        "x = df_session_activity['Event name']\n",
        "y = df_session_activity['Event count']\n",
        "graph = ax.bar(x,y)\n",
        "graph[0].set_color('g')\n",
        "graph[5].set_color('r')\n",
        "plt.xticks(rotation = 45)\n",
        "plt.title('Chart showing number users by type of activity')\n",
        "plt.xlabel('Activity type')\n",
        "plt.ylabel('Users')\n",
        "plt.show()"
      ],
      "metadata": {
        "colab": {
          "base_uri": "https://localhost:8080/",
          "height": 426
        },
        "id": "3xNhK4iCzJ4n",
        "outputId": "cddbcfd6-37b0-41f9-ba81-b3bccd721e73"
      },
      "execution_count": 29,
      "outputs": [
        {
          "output_type": "display_data",
          "data": {
            "text/plain": [
              "<Figure size 432x288 with 1 Axes>"
            ],
            "image/png": "[encoded data removed]"
          },
          "metadata": {
            "needs_background": "light"
          }
        }
      ]
    },
    {
      "cell_type": "markdown",
      "source": [
        "**Finally our last visual in the data exploration has to do with the activity type of the users traffic on our ad. By far most users only do page-view. Based on our main hypothesis for this project to promote the Conference for College Ventures Network we would like to see the number of \"Clicks\" rise substantially as we try attract more people to the event.**"
      ],
      "metadata": {
        "id": "KwyJ_1JLrF3B"
      }
    }
  ]
}