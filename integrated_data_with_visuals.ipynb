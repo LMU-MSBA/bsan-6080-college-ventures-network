{
  "cells": [
    {
      "cell_type": "code",
      "execution_count": 2,
      "id": "9ab3cc80",
      "metadata": {
        "colab": {
          "base_uri": "https://localhost:8080/"
        },
        "id": "9ab3cc80",
        "outputId": "a0923378-416e-47f5-865c-3f9da4a27449"
      },
      "outputs": [
        {
          "output_type": "stream",
          "name": "stdout",
          "text": [
            "Requirement already satisfied: xlrd in /usr/local/lib/python3.7/dist-packages (1.1.0)\n",
            "Requirement already satisfied: openpyxl in /usr/local/lib/python3.7/dist-packages (3.0.9)\n",
            "Requirement already satisfied: et-xmlfile in /usr/local/lib/python3.7/dist-packages (from openpyxl) (1.1.0)\n"
          ]
        }
      ],
      "source": [
        "!pip install xlrd\n",
        "!pip install openpyxl"
      ]
    },
    {
      "cell_type": "code",
      "execution_count": 1,
      "id": "a87527fb",
      "metadata": {
        "id": "a87527fb"
      },
      "outputs": [],
      "source": [
        "import pandas as pd\n",
        "import numpy as np\n",
        "import matplotlib.pyplot as plt"
      ]
    },
    {
      "cell_type": "code",
      "execution_count": null,
      "id": "f2f072d0",
      "metadata": {
        "id": "f2f072d0"
      },
      "outputs": [],
      "source": [
        "daily_data_df=pd.read_excel('CLEANED_DATA_revised.xlsx',sheet_name='daily_data')"
      ]
    },
    {
      "cell_type": "code",
      "execution_count": null,
      "id": "8d8943d8",
      "metadata": {
        "id": "8d8943d8",
        "outputId": "4119848f-59df-42d0-b649-d138377c3c75"
      },
      "outputs": [
        {
          "data": {
            "text/html": [
              "<div>\n",
              "<style scoped>\n",
              "    .dataframe tbody tr th:only-of-type {\n",
              "        vertical-align: middle;\n",
              "    }\n",
              "\n",
              "    .dataframe tbody tr th {\n",
              "        vertical-align: top;\n",
              "    }\n",
              "\n",
              "    .dataframe thead th {\n",
              "        text-align: right;\n",
              "    }\n",
              "</style>\n",
              "<table border=\"1\" class=\"dataframe\">\n",
              "  <thead>\n",
              "    <tr style=\"text-align: right;\">\n",
              "      <th></th>\n",
              "      <th>day</th>\n",
              "      <th>users</th>\n",
              "      <th>new_users</th>\n",
              "      <th>avg_engagement_time</th>\n",
              "      <th>trending_30_d</th>\n",
              "      <th>trending_7_d</th>\n",
              "      <th>trending_1_d</th>\n",
              "    </tr>\n",
              "  </thead>\n",
              "  <tbody>\n",
              "    <tr>\n",
              "      <th>0</th>\n",
              "      <td>0</td>\n",
              "      <td>0</td>\n",
              "      <td>0</td>\n",
              "      <td>0.000000</td>\n",
              "      <td>0</td>\n",
              "      <td>0</td>\n",
              "      <td>0</td>\n",
              "    </tr>\n",
              "    <tr>\n",
              "      <th>1</th>\n",
              "      <td>1</td>\n",
              "      <td>0</td>\n",
              "      <td>0</td>\n",
              "      <td>0.000000</td>\n",
              "      <td>0</td>\n",
              "      <td>0</td>\n",
              "      <td>0</td>\n",
              "    </tr>\n",
              "    <tr>\n",
              "      <th>2</th>\n",
              "      <td>2</td>\n",
              "      <td>2</td>\n",
              "      <td>2</td>\n",
              "      <td>0.000000</td>\n",
              "      <td>2</td>\n",
              "      <td>2</td>\n",
              "      <td>2</td>\n",
              "    </tr>\n",
              "    <tr>\n",
              "      <th>3</th>\n",
              "      <td>3</td>\n",
              "      <td>54</td>\n",
              "      <td>54</td>\n",
              "      <td>31.148148</td>\n",
              "      <td>56</td>\n",
              "      <td>56</td>\n",
              "      <td>54</td>\n",
              "    </tr>\n",
              "    <tr>\n",
              "      <th>4</th>\n",
              "      <td>4</td>\n",
              "      <td>46</td>\n",
              "      <td>44</td>\n",
              "      <td>30.500000</td>\n",
              "      <td>100</td>\n",
              "      <td>100</td>\n",
              "      <td>46</td>\n",
              "    </tr>\n",
              "    <tr>\n",
              "      <th>5</th>\n",
              "      <td>5</td>\n",
              "      <td>28</td>\n",
              "      <td>27</td>\n",
              "      <td>16.964286</td>\n",
              "      <td>127</td>\n",
              "      <td>127</td>\n",
              "      <td>28</td>\n",
              "    </tr>\n",
              "    <tr>\n",
              "      <th>6</th>\n",
              "      <td>6</td>\n",
              "      <td>12</td>\n",
              "      <td>10</td>\n",
              "      <td>33.166667</td>\n",
              "      <td>138</td>\n",
              "      <td>138</td>\n",
              "      <td>12</td>\n",
              "    </tr>\n",
              "    <tr>\n",
              "      <th>7</th>\n",
              "      <td>7</td>\n",
              "      <td>43</td>\n",
              "      <td>40</td>\n",
              "      <td>33.116279</td>\n",
              "      <td>178</td>\n",
              "      <td>178</td>\n",
              "      <td>43</td>\n",
              "    </tr>\n",
              "    <tr>\n",
              "      <th>8</th>\n",
              "      <td>8</td>\n",
              "      <td>0</td>\n",
              "      <td>0</td>\n",
              "      <td>0.000000</td>\n",
              "      <td>178</td>\n",
              "      <td>178</td>\n",
              "      <td>0</td>\n",
              "    </tr>\n",
              "  </tbody>\n",
              "</table>\n",
              "</div>"
            ],
            "text/plain": [
              "   day  users  new_users  avg_engagement_time  trending_30_d  trending_7_d  \\\n",
              "0    0      0          0             0.000000              0             0   \n",
              "1    1      0          0             0.000000              0             0   \n",
              "2    2      2          2             0.000000              2             2   \n",
              "3    3     54         54            31.148148             56            56   \n",
              "4    4     46         44            30.500000            100           100   \n",
              "5    5     28         27            16.964286            127           127   \n",
              "6    6     12         10            33.166667            138           138   \n",
              "7    7     43         40            33.116279            178           178   \n",
              "8    8      0          0             0.000000            178           178   \n",
              "\n",
              "   trending_1_d  \n",
              "0             0  \n",
              "1             0  \n",
              "2             2  \n",
              "3            54  \n",
              "4            46  \n",
              "5            28  \n",
              "6            12  \n",
              "7            43  \n",
              "8             0  "
            ]
          },
          "execution_count": 27,
          "metadata": {},
          "output_type": "execute_result"
        }
      ],
      "source": [
        "daily_data_df"
      ]
    },
    {
      "cell_type": "code",
      "execution_count": null,
      "id": "5fe06adf",
      "metadata": {
        "id": "5fe06adf",
        "outputId": "164bf633-5bd1-48b8-cb4f-4da82bd4ba3b"
      },
      "outputs": [
        {
          "data": {
            "text/plain": [
              "day                      int64\n",
              "users                    int64\n",
              "new_users                int64\n",
              "avg_engagement_time    float64\n",
              "trending_30_d            int64\n",
              "trending_7_d             int64\n",
              "trending_1_d             int64\n",
              "dtype: object"
            ]
          },
          "execution_count": 28,
          "metadata": {},
          "output_type": "execute_result"
        }
      ],
      "source": [
        "daily_data_df.dtypes"
      ]
    },
    {
      "cell_type": "code",
      "execution_count": null,
      "id": "6266e990",
      "metadata": {
        "id": "6266e990",
        "outputId": "f453a8d8-a8b6-40dc-be8a-800c89eb97a4"
      },
      "outputs": [
        {
          "data": {
            "text/plain": [
              "(9, 7)"
            ]
          },
          "execution_count": 37,
          "metadata": {},
          "output_type": "execute_result"
        }
      ],
      "source": [
        "daily_data_df.shape"
      ]
    },
    {
      "cell_type": "code",
      "execution_count": null,
      "id": "08d3a278",
      "metadata": {
        "id": "08d3a278",
        "outputId": "9fb50252-fd7f-4e4e-efd7-6be248d7d1f2"
      },
      "outputs": [
        {
          "data": {
            "text/plain": [
              "<AxesSubplot:xlabel='day'>"
            ]
          },
          "execution_count": 74,
          "metadata": {},
          "output_type": "execute_result"
        },
        {
          "data": {
            "image/png": "[encoded data removed]",
            "text/plain": [
              "<Figure size 720x360 with 1 Axes>"
            ]
          },
          "metadata": {
            "needs_background": "light"
          },
          "output_type": "display_data"
        }
      ],
      "source": [
        "daily_data_df.plot(x='day',kind='bar',figsize=(10,5), width=1.5)"
      ]
    },
    {
      "cell_type": "code",
      "execution_count": null,
      "id": "45d961ba",
      "metadata": {
        "id": "45d961ba"
      },
      "outputs": [],
      "source": [
        "source_data_df=pd.read_excel('CLEANED_DATA_revised.xlsx',sheet_name='source_data')"
      ]
    },
    {
      "cell_type": "code",
      "execution_count": null,
      "id": "09ba4ef8",
      "metadata": {
        "id": "09ba4ef8",
        "outputId": "5ba3c51c-11e2-4456-bc27-1b0dcb8bda38"
      },
      "outputs": [
        {
          "data": {
            "text/html": [
              "<div>\n",
              "<style scoped>\n",
              "    .dataframe tbody tr th:only-of-type {\n",
              "        vertical-align: middle;\n",
              "    }\n",
              "\n",
              "    .dataframe tbody tr th {\n",
              "        vertical-align: top;\n",
              "    }\n",
              "\n",
              "    .dataframe thead th {\n",
              "        text-align: right;\n",
              "    }\n",
              "</style>\n",
              "<table border=\"1\" class=\"dataframe\">\n",
              "  <thead>\n",
              "    <tr style=\"text-align: right;\">\n",
              "      <th></th>\n",
              "      <th>first_user_default_channel_grouping</th>\n",
              "      <th>new_users</th>\n",
              "      <th>sessions</th>\n",
              "    </tr>\n",
              "  </thead>\n",
              "  <tbody>\n",
              "    <tr>\n",
              "      <th>0</th>\n",
              "      <td>direct</td>\n",
              "      <td>141</td>\n",
              "      <td>160</td>\n",
              "    </tr>\n",
              "    <tr>\n",
              "      <th>1</th>\n",
              "      <td>referral</td>\n",
              "      <td>18</td>\n",
              "      <td>19</td>\n",
              "    </tr>\n",
              "    <tr>\n",
              "      <th>2</th>\n",
              "      <td>organic_social</td>\n",
              "      <td>10</td>\n",
              "      <td>14</td>\n",
              "    </tr>\n",
              "    <tr>\n",
              "      <th>3</th>\n",
              "      <td>organic_search</td>\n",
              "      <td>5</td>\n",
              "      <td>10</td>\n",
              "    </tr>\n",
              "    <tr>\n",
              "      <th>4</th>\n",
              "      <td>email</td>\n",
              "      <td>3</td>\n",
              "      <td>3</td>\n",
              "    </tr>\n",
              "  </tbody>\n",
              "</table>\n",
              "</div>"
            ],
            "text/plain": [
              "  first_user_default_channel_grouping  new_users  sessions\n",
              "0                              direct        141       160\n",
              "1                            referral         18        19\n",
              "2                      organic_social         10        14\n",
              "3                      organic_search          5        10\n",
              "4                               email          3         3"
            ]
          },
          "execution_count": 25,
          "metadata": {},
          "output_type": "execute_result"
        }
      ],
      "source": [
        "source_data_df"
      ]
    },
    {
      "cell_type": "code",
      "execution_count": null,
      "id": "41350361",
      "metadata": {
        "id": "41350361",
        "outputId": "919465a5-ee00-486b-9c49-477f16827f86"
      },
      "outputs": [
        {
          "data": {
            "text/plain": [
              "first_user_default_channel_grouping    object\n",
              "new_users                               int64\n",
              "sessions                                int64\n",
              "dtype: object"
            ]
          },
          "execution_count": 26,
          "metadata": {},
          "output_type": "execute_result"
        }
      ],
      "source": [
        "source_data_df.dtypes"
      ]
    },
    {
      "cell_type": "code",
      "execution_count": null,
      "id": "27b55020",
      "metadata": {
        "id": "27b55020",
        "outputId": "783267fa-2e09-4898-857d-5d7adeb5a444"
      },
      "outputs": [
        {
          "data": {
            "text/plain": [
              "(5, 3)"
            ]
          },
          "execution_count": 38,
          "metadata": {},
          "output_type": "execute_result"
        }
      ],
      "source": [
        "source_data_df.shape"
      ]
    },
    {
      "cell_type": "code",
      "execution_count": null,
      "id": "696c7f2d",
      "metadata": {
        "id": "696c7f2d",
        "outputId": "73dec48c-76aa-47ae-ca03-8357aa9494e2"
      },
      "outputs": [
        {
          "data": {
            "text/plain": [
              "<AxesSubplot:xlabel='first_user_default_channel_grouping'>"
            ]
          },
          "execution_count": 77,
          "metadata": {},
          "output_type": "execute_result"
        },
        {
          "data": {
            "image/png": "[encoded data removed]",
            "text/plain": [
              "<Figure size 720x360 with 1 Axes>"
            ]
          },
          "metadata": {
            "needs_background": "light"
          },
          "output_type": "display_data"
        }
      ],
      "source": [
        "source_data_df.plot(x='first_user_default_channel_grouping',kind='bar',figsize=(10,5), width=1)"
      ]
    },
    {
      "cell_type": "code",
      "execution_count": null,
      "id": "d4526b4d",
      "metadata": {
        "id": "d4526b4d"
      },
      "outputs": [],
      "source": [
        "country_data_df=pd.read_excel('CLEANED_DATA_revised.xlsx',sheet_name='country_data')"
      ]
    },
    {
      "cell_type": "code",
      "execution_count": null,
      "id": "ab8d384e",
      "metadata": {
        "id": "ab8d384e",
        "outputId": "760b50c3-8fa3-421d-897c-e3d1a6daa3c4"
      },
      "outputs": [
        {
          "data": {
            "text/html": [
              "<div>\n",
              "<style scoped>\n",
              "    .dataframe tbody tr th:only-of-type {\n",
              "        vertical-align: middle;\n",
              "    }\n",
              "\n",
              "    .dataframe tbody tr th {\n",
              "        vertical-align: top;\n",
              "    }\n",
              "\n",
              "    .dataframe thead th {\n",
              "        text-align: right;\n",
              "    }\n",
              "</style>\n",
              "<table border=\"1\" class=\"dataframe\">\n",
              "  <thead>\n",
              "    <tr style=\"text-align: right;\">\n",
              "      <th></th>\n",
              "      <th>country</th>\n",
              "      <th>users</th>\n",
              "    </tr>\n",
              "  </thead>\n",
              "  <tbody>\n",
              "    <tr>\n",
              "      <th>0</th>\n",
              "      <td>United States</td>\n",
              "      <td>156</td>\n",
              "    </tr>\n",
              "    <tr>\n",
              "      <th>1</th>\n",
              "      <td>United Kingdom</td>\n",
              "      <td>6</td>\n",
              "    </tr>\n",
              "    <tr>\n",
              "      <th>2</th>\n",
              "      <td>Australia</td>\n",
              "      <td>5</td>\n",
              "    </tr>\n",
              "    <tr>\n",
              "      <th>3</th>\n",
              "      <td>Spain</td>\n",
              "      <td>5</td>\n",
              "    </tr>\n",
              "    <tr>\n",
              "      <th>4</th>\n",
              "      <td>India</td>\n",
              "      <td>2</td>\n",
              "    </tr>\n",
              "    <tr>\n",
              "      <th>5</th>\n",
              "      <td>Canada</td>\n",
              "      <td>1</td>\n",
              "    </tr>\n",
              "    <tr>\n",
              "      <th>6</th>\n",
              "      <td>Germany</td>\n",
              "      <td>1</td>\n",
              "    </tr>\n",
              "    <tr>\n",
              "      <th>7</th>\n",
              "      <td>Nigeria</td>\n",
              "      <td>1</td>\n",
              "    </tr>\n",
              "    <tr>\n",
              "      <th>8</th>\n",
              "      <td>Puerto Rico</td>\n",
              "      <td>1</td>\n",
              "    </tr>\n",
              "  </tbody>\n",
              "</table>\n",
              "</div>"
            ],
            "text/plain": [
              "          country  users\n",
              "0   United States    156\n",
              "1  United Kingdom      6\n",
              "2       Australia      5\n",
              "3           Spain      5\n",
              "4           India      2\n",
              "5          Canada      1\n",
              "6         Germany      1\n",
              "7         Nigeria      1\n",
              "8     Puerto Rico      1"
            ]
          },
          "execution_count": 32,
          "metadata": {},
          "output_type": "execute_result"
        }
      ],
      "source": [
        "country_data_df"
      ]
    },
    {
      "cell_type": "code",
      "execution_count": null,
      "id": "18ca2817",
      "metadata": {
        "id": "18ca2817",
        "outputId": "94182a71-a968-461b-82ad-f56a7d16a5a3"
      },
      "outputs": [
        {
          "data": {
            "text/plain": [
              "country    object\n",
              "users       int64\n",
              "dtype: object"
            ]
          },
          "execution_count": 33,
          "metadata": {},
          "output_type": "execute_result"
        }
      ],
      "source": [
        "country_data_df.dtypes"
      ]
    },
    {
      "cell_type": "code",
      "execution_count": null,
      "id": "fe9365cf",
      "metadata": {
        "id": "fe9365cf",
        "outputId": "a695f622-b267-4d42-b31d-fc544df351f5"
      },
      "outputs": [
        {
          "data": {
            "text/plain": [
              "(9, 2)"
            ]
          },
          "execution_count": 40,
          "metadata": {},
          "output_type": "execute_result"
        }
      ],
      "source": [
        "country_data_df.shape"
      ]
    },
    {
      "cell_type": "code",
      "execution_count": null,
      "id": "abd03ffc",
      "metadata": {
        "id": "abd03ffc",
        "outputId": "96bfd425-9a29-4aca-ab19-c73b6bc0e505"
      },
      "outputs": [
        {
          "data": {
            "text/plain": [
              "<AxesSubplot:ylabel='users'>"
            ]
          },
          "execution_count": 110,
          "metadata": {},
          "output_type": "execute_result"
        },
        {
          "data": {
            "image/png": "[encoded data removed]",
            "text/plain": [
              "<Figure size 432x288 with 1 Axes>"
            ]
          },
          "metadata": {},
          "output_type": "display_data"
        }
      ],
      "source": [
        "country_data_df.plot(kind='pie',y='users',labels=country_data_df['country'],explode=(0,0,0,0,1,1.25,1.5,1.75,2) ,legend=False, fontsize=10)"
      ]
    },
    {
      "cell_type": "code",
      "execution_count": null,
      "id": "e1ab70cc",
      "metadata": {
        "id": "e1ab70cc"
      },
      "outputs": [],
      "source": [
        "facebook_data_df=pd.read_excel('CLEANED_DATA_revised.xlsx',sheet_name='facebook_data')"
      ]
    },
    {
      "cell_type": "code",
      "execution_count": null,
      "id": "df42b3fe",
      "metadata": {
        "id": "df42b3fe",
        "outputId": "2682680a-c1ac-4251-a1a6-29529aaab5fb"
      },
      "outputs": [
        {
          "data": {
            "text/html": [
              "<div>\n",
              "<style scoped>\n",
              "    .dataframe tbody tr th:only-of-type {\n",
              "        vertical-align: middle;\n",
              "    }\n",
              "\n",
              "    .dataframe tbody tr th {\n",
              "        vertical-align: top;\n",
              "    }\n",
              "\n",
              "    .dataframe thead th {\n",
              "        text-align: right;\n",
              "    }\n",
              "</style>\n",
              "<table border=\"1\" class=\"dataframe\">\n",
              "  <thead>\n",
              "    <tr style=\"text-align: right;\">\n",
              "      <th></th>\n",
              "      <th>unix_time_</th>\n",
              "      <th>start</th>\n",
              "      <th>event</th>\n",
              "      <th>browser_received_count</th>\n",
              "    </tr>\n",
              "  </thead>\n",
              "  <tbody>\n",
              "    <tr>\n",
              "      <th>0</th>\n",
              "      <td>2022-03-31</td>\n",
              "      <td>17:00:00</td>\n",
              "      <td>PageView</td>\n",
              "      <td>17</td>\n",
              "    </tr>\n",
              "    <tr>\n",
              "      <th>1</th>\n",
              "      <td>2022-03-31</td>\n",
              "      <td>18:00:00</td>\n",
              "      <td>PageView</td>\n",
              "      <td>10</td>\n",
              "    </tr>\n",
              "    <tr>\n",
              "      <th>2</th>\n",
              "      <td>2022-03-31</td>\n",
              "      <td>19:00:00</td>\n",
              "      <td>PageView</td>\n",
              "      <td>1</td>\n",
              "    </tr>\n",
              "    <tr>\n",
              "      <th>3</th>\n",
              "      <td>2022-03-31</td>\n",
              "      <td>20:00:00</td>\n",
              "      <td>PageView</td>\n",
              "      <td>1</td>\n",
              "    </tr>\n",
              "    <tr>\n",
              "      <th>4</th>\n",
              "      <td>2022-03-31</td>\n",
              "      <td>21:00:00</td>\n",
              "      <td>PageView</td>\n",
              "      <td>1</td>\n",
              "    </tr>\n",
              "    <tr>\n",
              "      <th>...</th>\n",
              "      <td>...</td>\n",
              "      <td>...</td>\n",
              "      <td>...</td>\n",
              "      <td>...</td>\n",
              "    </tr>\n",
              "    <tr>\n",
              "      <th>144</th>\n",
              "      <td>2022-04-11</td>\n",
              "      <td>18:00:00</td>\n",
              "      <td>PageView</td>\n",
              "      <td>14</td>\n",
              "    </tr>\n",
              "    <tr>\n",
              "      <th>145</th>\n",
              "      <td>2022-04-11</td>\n",
              "      <td>19:00:00</td>\n",
              "      <td>PageView</td>\n",
              "      <td>23</td>\n",
              "    </tr>\n",
              "    <tr>\n",
              "      <th>146</th>\n",
              "      <td>2022-04-11</td>\n",
              "      <td>20:00:00</td>\n",
              "      <td>PageView</td>\n",
              "      <td>3</td>\n",
              "    </tr>\n",
              "    <tr>\n",
              "      <th>147</th>\n",
              "      <td>2022-04-11</td>\n",
              "      <td>21:00:00</td>\n",
              "      <td>PageView</td>\n",
              "      <td>3</td>\n",
              "    </tr>\n",
              "    <tr>\n",
              "      <th>148</th>\n",
              "      <td>2022-04-11</td>\n",
              "      <td>22:00:00</td>\n",
              "      <td>PageView</td>\n",
              "      <td>4</td>\n",
              "    </tr>\n",
              "  </tbody>\n",
              "</table>\n",
              "<p>149 rows × 4 columns</p>\n",
              "</div>"
            ],
            "text/plain": [
              "    unix_time_     start     event  browser_received_count\n",
              "0   2022-03-31  17:00:00  PageView                      17\n",
              "1   2022-03-31  18:00:00  PageView                      10\n",
              "2   2022-03-31  19:00:00  PageView                       1\n",
              "3   2022-03-31  20:00:00  PageView                       1\n",
              "4   2022-03-31  21:00:00  PageView                       1\n",
              "..         ...       ...       ...                     ...\n",
              "144 2022-04-11  18:00:00  PageView                      14\n",
              "145 2022-04-11  19:00:00  PageView                      23\n",
              "146 2022-04-11  20:00:00  PageView                       3\n",
              "147 2022-04-11  21:00:00  PageView                       3\n",
              "148 2022-04-11  22:00:00  PageView                       4\n",
              "\n",
              "[149 rows x 4 columns]"
            ]
          },
          "execution_count": 35,
          "metadata": {},
          "output_type": "execute_result"
        }
      ],
      "source": [
        "facebook_data_df"
      ]
    },
    {
      "cell_type": "code",
      "execution_count": null,
      "id": "b5ef2585",
      "metadata": {
        "id": "b5ef2585",
        "outputId": "72e22ba5-b836-4681-999f-992dec04c022"
      },
      "outputs": [
        {
          "data": {
            "text/plain": [
              "unix_time_                datetime64[ns]\n",
              "start                             object\n",
              "event                             object\n",
              "browser_received_count             int64\n",
              "dtype: object"
            ]
          },
          "execution_count": 36,
          "metadata": {},
          "output_type": "execute_result"
        }
      ],
      "source": [
        "facebook_data_df.dtypes"
      ]
    },
    {
      "cell_type": "code",
      "execution_count": null,
      "id": "927a1b88",
      "metadata": {
        "id": "927a1b88",
        "outputId": "c3fdb56b-2e58-4d3c-87da-ebb7726978dc"
      },
      "outputs": [
        {
          "data": {
            "text/plain": [
              "(149, 4)"
            ]
          },
          "execution_count": 41,
          "metadata": {},
          "output_type": "execute_result"
        }
      ],
      "source": [
        "facebook_data_df.shape"
      ]
    },
    {
      "cell_type": "code",
      "execution_count": null,
      "id": "4b8a5937",
      "metadata": {
        "id": "4b8a5937"
      },
      "outputs": [],
      "source": [
        "facebook_data_byday_df=facebook_data_df.groupby(facebook_data_df.unix_time_.dt.dayofyear,as_index=False).sum()"
      ]
    },
    {
      "cell_type": "code",
      "execution_count": null,
      "id": "f539d622",
      "metadata": {
        "id": "f539d622",
        "outputId": "913132ad-c48c-4120-a59a-4ef8bfee18aa"
      },
      "outputs": [
        {
          "data": {
            "text/html": [
              "<div>\n",
              "<style scoped>\n",
              "    .dataframe tbody tr th:only-of-type {\n",
              "        vertical-align: middle;\n",
              "    }\n",
              "\n",
              "    .dataframe tbody tr th {\n",
              "        vertical-align: top;\n",
              "    }\n",
              "\n",
              "    .dataframe thead th {\n",
              "        text-align: right;\n",
              "    }\n",
              "</style>\n",
              "<table border=\"1\" class=\"dataframe\">\n",
              "  <thead>\n",
              "    <tr style=\"text-align: right;\">\n",
              "      <th></th>\n",
              "      <th>browser_received_count</th>\n",
              "    </tr>\n",
              "  </thead>\n",
              "  <tbody>\n",
              "    <tr>\n",
              "      <th>0</th>\n",
              "      <td>30</td>\n",
              "    </tr>\n",
              "    <tr>\n",
              "      <th>1</th>\n",
              "      <td>25</td>\n",
              "    </tr>\n",
              "    <tr>\n",
              "      <th>2</th>\n",
              "      <td>18</td>\n",
              "    </tr>\n",
              "    <tr>\n",
              "      <th>3</th>\n",
              "      <td>9</td>\n",
              "    </tr>\n",
              "    <tr>\n",
              "      <th>4</th>\n",
              "      <td>36</td>\n",
              "    </tr>\n",
              "    <tr>\n",
              "      <th>5</th>\n",
              "      <td>70</td>\n",
              "    </tr>\n",
              "    <tr>\n",
              "      <th>6</th>\n",
              "      <td>73</td>\n",
              "    </tr>\n",
              "    <tr>\n",
              "      <th>7</th>\n",
              "      <td>71</td>\n",
              "    </tr>\n",
              "    <tr>\n",
              "      <th>8</th>\n",
              "      <td>50</td>\n",
              "    </tr>\n",
              "    <tr>\n",
              "      <th>9</th>\n",
              "      <td>13</td>\n",
              "    </tr>\n",
              "    <tr>\n",
              "      <th>10</th>\n",
              "      <td>49</td>\n",
              "    </tr>\n",
              "    <tr>\n",
              "      <th>11</th>\n",
              "      <td>118</td>\n",
              "    </tr>\n",
              "  </tbody>\n",
              "</table>\n",
              "</div>"
            ],
            "text/plain": [
              "    browser_received_count\n",
              "0                       30\n",
              "1                       25\n",
              "2                       18\n",
              "3                        9\n",
              "4                       36\n",
              "5                       70\n",
              "6                       73\n",
              "7                       71\n",
              "8                       50\n",
              "9                       13\n",
              "10                      49\n",
              "11                     118"
            ]
          },
          "execution_count": 114,
          "metadata": {},
          "output_type": "execute_result"
        }
      ],
      "source": [
        "facebook_data_byday_df"
      ]
    },
    {
      "cell_type": "code",
      "execution_count": null,
      "id": "ba4ce038",
      "metadata": {
        "id": "ba4ce038",
        "outputId": "28b42980-0642-49ba-c6cb-e5de7a89e61c"
      },
      "outputs": [
        {
          "data": {
            "text/plain": [
              "browser_received_count    int64\n",
              "dtype: object"
            ]
          },
          "execution_count": 115,
          "metadata": {},
          "output_type": "execute_result"
        }
      ],
      "source": [
        "facebook_data_byday_df.dtypes"
      ]
    },
    {
      "cell_type": "code",
      "execution_count": null,
      "id": "d05a2704",
      "metadata": {
        "id": "d05a2704",
        "outputId": "8c33c10b-9ab5-44f1-c781-b0024979c6e1"
      },
      "outputs": [
        {
          "data": {
            "text/plain": [
              "<AxesSubplot:>"
            ]
          },
          "execution_count": 116,
          "metadata": {},
          "output_type": "execute_result"
        },
        {
          "data": {
            "image/png": "[encoded data removed]",
            "text/plain": [
              "<Figure size 720x360 with 1 Axes>"
            ]
          },
          "metadata": {
            "needs_background": "light"
          },
          "output_type": "display_data"
        }
      ],
      "source": [
        "facebook_data_byday_df.plot(kind='bar',figsize=(10,5), width=1)"
      ]
    },
    {
      "cell_type": "code",
      "execution_count": null,
      "id": "2423b810",
      "metadata": {
        "id": "2423b810"
      },
      "outputs": [],
      "source": [
        ""
      ]
    }
  ],
  "metadata": {
    "kernelspec": {
      "display_name": "Python 3 (ipykernel)",
      "language": "python",
      "name": "python3"
    },
    "language_info": {
      "codemirror_mode": {
        "name": "ipython",
        "version": 3
      },
      "file_extension": ".py",
      "mimetype": "text/x-python",
      "name": "python",
      "nbconvert_exporter": "python",
      "pygments_lexer": "ipython3",
      "version": "3.9.5"
    },
    "colab": {
      "name": "integrated data with visuals.ipynb",
      "provenance": [],
      "collapsed_sections": []
    }
  },
  "nbformat": 4,
  "nbformat_minor": 5
}